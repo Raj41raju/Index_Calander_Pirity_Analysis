{
 "cells": [
  {
   "cell_type": "code",
   "execution_count": 1,
   "metadata": {},
   "outputs": [],
   "source": [
    "import pandas as pd\n",
    "import numpy as np\n",
    "import os\n",
    "import glob"
   ]
  },
  {
   "cell_type": "code",
   "execution_count": null,
   "metadata": {},
   "outputs": [],
   "source": [
    "\n",
    "data_path = \"E:\\\\Finwesiya_Data_Historical\\\\Nifty\"\n",
    "#### Read All Data Files\n",
    "files_location = glob.glob(os.path.join(data_path, \"*.csv\"))\n",
    "\n",
    "location = pd.DataFrame(files_location, columns=['location'])\n",
    "\n",
    "#Extracting date\n",
    "location['date'] = location['location'].apply(lambda  x: x.split('_')[-1].split('.')[0])\n",
    "#Converting date into datetime format\n",
    "location['date'] = pd.to_datetime(location['date'], format = \"%d-%m-%Y\")\n",
    "#Sorting the dataframe into asccending order\n",
    "location.sort_values(by='date', inplace=True)\n",
    "location.reset_index(drop=True, inplace=True)"
   ]
  }
 ],
 "metadata": {
  "kernelspec": {
   "display_name": "Nifty_Calendar_Analysis-VizbrgES",
   "language": "python",
   "name": "python3"
  },
  "language_info": {
   "codemirror_mode": {
    "name": "ipython",
    "version": 3
   },
   "file_extension": ".py",
   "mimetype": "text/x-python",
   "name": "python",
   "nbconvert_exporter": "python",
   "pygments_lexer": "ipython3",
   "version": "3.12.4"
  }
 },
 "nbformat": 4,
 "nbformat_minor": 2
}
